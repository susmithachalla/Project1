{
  "nbformat": 4,
  "nbformat_minor": 0,
  "metadata": {
    "colab": {
      "provenance": [],
      "authorship_tag": "ABX9TyOVpq6nWVlAv65/CYfpucOD",
      "include_colab_link": true
    },
    "kernelspec": {
      "name": "python3",
      "display_name": "Python 3"
    },
    "language_info": {
      "name": "python"
    }
  },
  "cells": [
    {
      "cell_type": "markdown",
      "metadata": {
        "id": "view-in-github",
        "colab_type": "text"
      },
      "source": [
        "<a href=\"https://colab.research.google.com/github/susmithachalla/Project1/blob/main/WordCount.ipynb\" target=\"_parent\"><img src=\"https://colab.research.google.com/assets/colab-badge.svg\" alt=\"Open In Colab\"/></a>"
      ]
    },
    {
      "cell_type": "code",
      "execution_count": null,
      "metadata": {
        "id": "ql-VzkfQWckM"
      },
      "outputs": [],
      "source": [
        "!wget https://downloads.apache.org/hadoop/common/hadoop-3.3.0/hadoop-3.3.0.tar.gz \n",
        "!tar -xzvf hadoop-3.3.0.tar.gz \n",
        "!cp -r hadoop-3.3.0/ /usr/local/ \n",
        "!readlink -f /usr/bin/java | sed \"s:bin/java::\" \n",
        "import os \n",
        "os.environ[\"JAVA_HOME\"] = \"/usr/lib/jvm/java-11-openjdk-amd64\" \n",
        "!/usr/local/hadoop-3.3.0/bin/hadoop "
      ]
    },
    {
      "cell_type": "code",
      "source": [
        "from google.colab import drive \n",
        "drive.mount('/content/drive')"
      ],
      "metadata": {
        "colab": {
          "base_uri": "https://localhost:8080/"
        },
        "id": "ZyaEzRCbWtlu",
        "outputId": "d5bdfbf4-5ac8-4b5b-9f4f-1ca4d8570d28"
      },
      "execution_count": null,
      "outputs": [
        {
          "output_type": "stream",
          "name": "stdout",
          "text": [
            "Mounted at /content/drive\n"
          ]
        }
      ]
    },
    {
      "cell_type": "code",
      "source": [
        "!/usr/local/hadoop-3.3.0/bin/hadoop jar /usr/local/hadoop-3.3.0/share/hadoop/mapreduce/hadoop-mapreduce-examples-3.3.0.jar"
      ],
      "metadata": {
        "id": "0zZzDVTkXpU-"
      },
      "execution_count": null,
      "outputs": []
    },
    {
      "cell_type": "code",
      "source": [
        "!/usr/local/hadoop-3.3.0/bin/hadoop jar /usr/local/hadoop-3.3.0/share/hadoop/mapreduce/hadoop-mapreduce-examples-3.3.0.jar wordcount \n"
      ],
      "metadata": {
        "colab": {
          "base_uri": "https://localhost:8080/"
        },
        "id": "Etl0gXuyXwYw",
        "outputId": "eaebc9d2-b30b-4e36-cac7-7432186161fb"
      },
      "execution_count": null,
      "outputs": [
        {
          "output_type": "stream",
          "name": "stdout",
          "text": [
            "Usage: wordcount <in> [<in>...] <out>\n"
          ]
        }
      ]
    },
    {
      "cell_type": "code",
      "source": [
        "!ls '/content/drive/My Drive/Colab Notebooks/Big-Data-Colab/' "
      ],
      "metadata": {
        "colab": {
          "base_uri": "https://localhost:8080/"
        },
        "id": "PDfTheS-X2nP",
        "outputId": "c32626c1-2d1f-40f0-e842-b77dbb024455"
      },
      "execution_count": null,
      "outputs": [
        {
          "output_type": "stream",
          "name": "stdout",
          "text": [
            "'3.Word count_Median.ipynb'\t out\t\t   words2.txt\n",
            " Alice.txt\t\t\t Untitled0.ipynb   words.txt\n",
            " DataCopy.ipynb\t\t\t WordCas.ipynb\n",
            " Hands_on_3_3_Word_Count.ipynb\t WordCount.ipynb\n"
          ]
        }
      ]
    },
    {
      "cell_type": "code",
      "source": [
        "!/usr/local/hadoop-3.3.0/bin/hadoop jar \\\n",
        "/usr/local/hadoop-3.3.0/share/hadoop/mapreduce/hadoop-mapreduce-examples-3.3.0.jar \\\n",
        "wordcount \\\n",
        "'/content/drive/My Drive/Colab Notebooks/Big-Data-Colab/Alice.txt' \\\n",
        "'/content/drive/My Drive/Colab Notebooks/Big-Data-Colab/out1'"
      ],
      "metadata": {
        "colab": {
          "base_uri": "https://localhost:8080/"
        },
        "id": "QaK9Qd3CX8Kb",
        "outputId": "5ae8db00-4af7-4a04-fcae-45b15774fb09"
      },
      "execution_count": null,
      "outputs": [
        {
          "output_type": "stream",
          "name": "stdout",
          "text": [
            "2022-02-17 14:46:16,283 INFO impl.MetricsConfig: Loaded properties from hadoop-metrics2.properties\n",
            "2022-02-17 14:46:16,421 INFO impl.MetricsSystemImpl: Scheduled Metric snapshot period at 10 second(s).\n",
            "2022-02-17 14:46:16,421 INFO impl.MetricsSystemImpl: JobTracker metrics system started\n",
            "2022-02-17 14:46:16,661 INFO input.FileInputFormat: Total input files to process : 1\n",
            "2022-02-17 14:46:16,708 INFO mapreduce.JobSubmitter: number of splits:1\n",
            "2022-02-17 14:46:17,151 INFO mapreduce.JobSubmitter: Submitting tokens for job: job_local886825872_0001\n",
            "2022-02-17 14:46:17,151 INFO mapreduce.JobSubmitter: Executing with tokens: []\n",
            "2022-02-17 14:46:17,448 INFO mapreduce.Job: The url to track the job: http://localhost:8080/\n",
            "2022-02-17 14:46:17,449 INFO mapreduce.Job: Running job: job_local886825872_0001\n",
            "2022-02-17 14:46:17,461 INFO mapred.LocalJobRunner: OutputCommitter set in config null\n",
            "2022-02-17 14:46:17,471 INFO output.FileOutputCommitter: File Output Committer Algorithm version is 2\n",
            "2022-02-17 14:46:17,471 INFO output.FileOutputCommitter: FileOutputCommitter skip cleanup _temporary folders under output directory:false, ignore cleanup failures: false\n",
            "2022-02-17 14:46:17,474 INFO mapred.LocalJobRunner: OutputCommitter is org.apache.hadoop.mapreduce.lib.output.FileOutputCommitter\n",
            "2022-02-17 14:46:17,550 INFO mapred.LocalJobRunner: Waiting for map tasks\n",
            "2022-02-17 14:46:17,554 INFO mapred.LocalJobRunner: Starting task: attempt_local886825872_0001_m_000000_0\n",
            "2022-02-17 14:46:17,590 INFO output.FileOutputCommitter: File Output Committer Algorithm version is 2\n",
            "2022-02-17 14:46:17,593 INFO output.FileOutputCommitter: FileOutputCommitter skip cleanup _temporary folders under output directory:false, ignore cleanup failures: false\n",
            "2022-02-17 14:46:17,645 INFO mapred.Task:  Using ResourceCalculatorProcessTree : [ ]\n",
            "2022-02-17 14:46:17,654 INFO mapred.MapTask: Processing split: file:/content/drive/My Drive/Colab Notebooks/Big-Data-Colab/Alice.txt:0+174313\n",
            "2022-02-17 14:46:17,730 INFO mapred.MapTask: (EQUATOR) 0 kvi 26214396(104857584)\n",
            "2022-02-17 14:46:17,730 INFO mapred.MapTask: mapreduce.task.io.sort.mb: 100\n",
            "2022-02-17 14:46:17,730 INFO mapred.MapTask: soft limit at 83886080\n",
            "2022-02-17 14:46:17,730 INFO mapred.MapTask: bufstart = 0; bufvoid = 104857600\n",
            "2022-02-17 14:46:17,730 INFO mapred.MapTask: kvstart = 26214396; length = 6553600\n",
            "2022-02-17 14:46:17,749 INFO mapred.MapTask: Map output collector class = org.apache.hadoop.mapred.MapTask$MapOutputBuffer\n",
            "2022-02-17 14:46:18,055 INFO input.LineRecordReader: Found UTF-8 BOM and skipped it\n",
            "2022-02-17 14:46:18,250 INFO mapred.LocalJobRunner: \n",
            "2022-02-17 14:46:18,251 INFO mapred.MapTask: Starting flush of map output\n",
            "2022-02-17 14:46:18,251 INFO mapred.MapTask: Spilling map output\n",
            "2022-02-17 14:46:18,251 INFO mapred.MapTask: bufstart = 0; bufend = 287327; bufvoid = 104857600\n",
            "2022-02-17 14:46:18,251 INFO mapred.MapTask: kvstart = 26214396(104857584); kvend = 26096024(104384096); length = 118373/6553600\n",
            "2022-02-17 14:46:18,455 INFO mapreduce.Job: Job job_local886825872_0001 running in uber mode : false\n",
            "2022-02-17 14:46:18,456 INFO mapreduce.Job:  map 0% reduce 0%\n",
            "2022-02-17 14:46:18,478 INFO mapred.MapTask: Finished spill 0\n",
            "2022-02-17 14:46:18,494 INFO mapred.Task: Task:attempt_local886825872_0001_m_000000_0 is done. And is in the process of committing\n",
            "2022-02-17 14:46:18,504 INFO mapred.LocalJobRunner: map\n",
            "2022-02-17 14:46:18,504 INFO mapred.Task: Task 'attempt_local886825872_0001_m_000000_0' done.\n",
            "2022-02-17 14:46:18,514 INFO mapred.Task: Final Counters for attempt_local886825872_0001_m_000000_0: Counters: 18\n",
            "\tFile System Counters\n",
            "\t\tFILE: Number of bytes read=455776\n",
            "\t\tFILE: Number of bytes written=973721\n",
            "\t\tFILE: Number of read operations=0\n",
            "\t\tFILE: Number of large read operations=0\n",
            "\t\tFILE: Number of write operations=0\n",
            "\tMap-Reduce Framework\n",
            "\t\tMap input records=3761\n",
            "\t\tMap output records=29594\n",
            "\t\tMap output bytes=287327\n",
            "\t\tMap output materialized bytes=85017\n",
            "\t\tInput split bytes=134\n",
            "\t\tCombine input records=29594\n",
            "\t\tCombine output records=5980\n",
            "\t\tSpilled Records=5980\n",
            "\t\tFailed Shuffles=0\n",
            "\t\tMerged Map outputs=0\n",
            "\t\tGC time elapsed (ms)=0\n",
            "\t\tTotal committed heap usage (bytes)=370147328\n",
            "\tFile Input Format Counters \n",
            "\t\tBytes Read=174313\n",
            "2022-02-17 14:46:18,514 INFO mapred.LocalJobRunner: Finishing task: attempt_local886825872_0001_m_000000_0\n",
            "2022-02-17 14:46:18,515 INFO mapred.LocalJobRunner: map task executor complete.\n",
            "2022-02-17 14:46:18,520 INFO mapred.LocalJobRunner: Waiting for reduce tasks\n",
            "2022-02-17 14:46:18,520 INFO mapred.LocalJobRunner: Starting task: attempt_local886825872_0001_r_000000_0\n",
            "2022-02-17 14:46:18,535 INFO output.FileOutputCommitter: File Output Committer Algorithm version is 2\n",
            "2022-02-17 14:46:18,535 INFO output.FileOutputCommitter: FileOutputCommitter skip cleanup _temporary folders under output directory:false, ignore cleanup failures: false\n",
            "2022-02-17 14:46:18,536 INFO mapred.Task:  Using ResourceCalculatorProcessTree : [ ]\n",
            "2022-02-17 14:46:18,542 INFO mapred.ReduceTask: Using ShuffleConsumerPlugin: org.apache.hadoop.mapreduce.task.reduce.Shuffle@52395370\n",
            "2022-02-17 14:46:18,545 WARN impl.MetricsSystemImpl: JobTracker metrics system already initialized!\n",
            "2022-02-17 14:46:18,586 INFO reduce.MergeManagerImpl: MergerManager: memoryLimit=2384042240, maxSingleShuffleLimit=596010560, mergeThreshold=1573467904, ioSortFactor=10, memToMemMergeOutputsThreshold=10\n",
            "2022-02-17 14:46:18,599 INFO reduce.EventFetcher: attempt_local886825872_0001_r_000000_0 Thread started: EventFetcher for fetching Map Completion Events\n",
            "2022-02-17 14:46:18,642 INFO reduce.LocalFetcher: localfetcher#1 about to shuffle output of map attempt_local886825872_0001_m_000000_0 decomp: 85013 len: 85017 to MEMORY\n",
            "2022-02-17 14:46:18,654 INFO reduce.InMemoryMapOutput: Read 85013 bytes from map-output for attempt_local886825872_0001_m_000000_0\n",
            "2022-02-17 14:46:18,659 INFO reduce.MergeManagerImpl: closeInMemoryFile -> map-output of size: 85013, inMemoryMapOutputs.size() -> 1, commitMemory -> 0, usedMemory ->85013\n",
            "2022-02-17 14:46:18,663 INFO reduce.EventFetcher: EventFetcher is interrupted.. Returning\n",
            "2022-02-17 14:46:18,665 INFO mapred.LocalJobRunner: 1 / 1 copied.\n",
            "2022-02-17 14:46:18,666 INFO reduce.MergeManagerImpl: finalMerge called with 1 in-memory map-outputs and 0 on-disk map-outputs\n",
            "2022-02-17 14:46:18,676 INFO mapred.Merger: Merging 1 sorted segments\n",
            "2022-02-17 14:46:18,676 INFO mapred.Merger: Down to the last merge-pass, with 1 segments left of total size: 85000 bytes\n",
            "2022-02-17 14:46:18,712 INFO reduce.MergeManagerImpl: Merged 1 segments, 85013 bytes to disk to satisfy reduce memory limit\n",
            "2022-02-17 14:46:18,713 INFO reduce.MergeManagerImpl: Merging 1 files, 85017 bytes from disk\n",
            "2022-02-17 14:46:18,714 INFO reduce.MergeManagerImpl: Merging 0 segments, 0 bytes from memory into reduce\n",
            "2022-02-17 14:46:18,714 INFO mapred.Merger: Merging 1 sorted segments\n",
            "2022-02-17 14:46:18,717 INFO mapred.Merger: Down to the last merge-pass, with 1 segments left of total size: 85000 bytes\n",
            "2022-02-17 14:46:18,717 INFO mapred.LocalJobRunner: 1 / 1 copied.\n",
            "2022-02-17 14:46:18,751 INFO Configuration.deprecation: mapred.skip.on is deprecated. Instead, use mapreduce.job.skiprecords\n",
            "2022-02-17 14:46:18,815 INFO mapred.Task: Task:attempt_local886825872_0001_r_000000_0 is done. And is in the process of committing\n",
            "2022-02-17 14:46:18,819 INFO mapred.LocalJobRunner: 1 / 1 copied.\n",
            "2022-02-17 14:46:18,819 INFO mapred.Task: Task attempt_local886825872_0001_r_000000_0 is allowed to commit now\n",
            "2022-02-17 14:46:18,840 INFO output.FileOutputCommitter: Saved output of task 'attempt_local886825872_0001_r_000000_0' to file:/content/drive/My Drive/Colab Notebooks/Big-Data-Colab/out1\n",
            "2022-02-17 14:46:18,841 INFO mapred.LocalJobRunner: reduce > reduce\n",
            "2022-02-17 14:46:18,842 INFO mapred.Task: Task 'attempt_local886825872_0001_r_000000_0' done.\n",
            "2022-02-17 14:46:18,842 INFO mapred.Task: Final Counters for attempt_local886825872_0001_r_000000_0: Counters: 24\n",
            "\tFile System Counters\n",
            "\t\tFILE: Number of bytes read=625842\n",
            "\t\tFILE: Number of bytes written=1120728\n",
            "\t\tFILE: Number of read operations=0\n",
            "\t\tFILE: Number of large read operations=0\n",
            "\t\tFILE: Number of write operations=0\n",
            "\tMap-Reduce Framework\n",
            "\t\tCombine input records=0\n",
            "\t\tCombine output records=0\n",
            "\t\tReduce input groups=5980\n",
            "\t\tReduce shuffle bytes=85017\n",
            "\t\tReduce input records=5980\n",
            "\t\tReduce output records=5980\n",
            "\t\tSpilled Records=5980\n",
            "\t\tShuffled Maps =1\n",
            "\t\tFailed Shuffles=0\n",
            "\t\tMerged Map outputs=1\n",
            "\t\tGC time elapsed (ms)=0\n",
            "\t\tTotal committed heap usage (bytes)=370147328\n",
            "\tShuffle Errors\n",
            "\t\tBAD_ID=0\n",
            "\t\tCONNECTION=0\n",
            "\t\tIO_ERROR=0\n",
            "\t\tWRONG_LENGTH=0\n",
            "\t\tWRONG_MAP=0\n",
            "\t\tWRONG_REDUCE=0\n",
            "\tFile Output Format Counters \n",
            "\t\tBytes Written=61990\n",
            "2022-02-17 14:46:18,843 INFO mapred.LocalJobRunner: Finishing task: attempt_local886825872_0001_r_000000_0\n",
            "2022-02-17 14:46:18,843 INFO mapred.LocalJobRunner: reduce task executor complete.\n",
            "2022-02-17 14:46:19,464 INFO mapreduce.Job:  map 100% reduce 100%\n",
            "2022-02-17 14:46:19,464 INFO mapreduce.Job: Job job_local886825872_0001 completed successfully\n",
            "2022-02-17 14:46:19,479 INFO mapreduce.Job: Counters: 30\n",
            "\tFile System Counters\n",
            "\t\tFILE: Number of bytes read=1081618\n",
            "\t\tFILE: Number of bytes written=2094449\n",
            "\t\tFILE: Number of read operations=0\n",
            "\t\tFILE: Number of large read operations=0\n",
            "\t\tFILE: Number of write operations=0\n",
            "\tMap-Reduce Framework\n",
            "\t\tMap input records=3761\n",
            "\t\tMap output records=29594\n",
            "\t\tMap output bytes=287327\n",
            "\t\tMap output materialized bytes=85017\n",
            "\t\tInput split bytes=134\n",
            "\t\tCombine input records=29594\n",
            "\t\tCombine output records=5980\n",
            "\t\tReduce input groups=5980\n",
            "\t\tReduce shuffle bytes=85017\n",
            "\t\tReduce input records=5980\n",
            "\t\tReduce output records=5980\n",
            "\t\tSpilled Records=11960\n",
            "\t\tShuffled Maps =1\n",
            "\t\tFailed Shuffles=0\n",
            "\t\tMerged Map outputs=1\n",
            "\t\tGC time elapsed (ms)=0\n",
            "\t\tTotal committed heap usage (bytes)=740294656\n",
            "\tShuffle Errors\n",
            "\t\tBAD_ID=0\n",
            "\t\tCONNECTION=0\n",
            "\t\tIO_ERROR=0\n",
            "\t\tWRONG_LENGTH=0\n",
            "\t\tWRONG_MAP=0\n",
            "\t\tWRONG_REDUCE=0\n",
            "\tFile Input Format Counters \n",
            "\t\tBytes Read=174313\n",
            "\tFile Output Format Counters \n",
            "\t\tBytes Written=61990\n"
          ]
        }
      ]
    },
    {
      "cell_type": "code",
      "source": [
        "!ls '/content/drive/My Drive/Colab Notebooks/Big-Data-Colab/out1' "
      ],
      "metadata": {
        "colab": {
          "base_uri": "https://localhost:8080/"
        },
        "id": "GiY2QSvNYea5",
        "outputId": "dc093f0c-be16-4540-f559-43b41db119f3"
      },
      "execution_count": null,
      "outputs": [
        {
          "output_type": "stream",
          "name": "stdout",
          "text": [
            "part-r-00000  _SUCCESS\n"
          ]
        }
      ]
    },
    {
      "cell_type": "code",
      "source": [
        "!more '/content/drive/My Drive/Colab Notebooks/Big-Data-Colab/out1/part-r-00000' "
      ],
      "metadata": {
        "colab": {
          "base_uri": "https://localhost:8080/"
        },
        "id": "Mj43y7g5Yi1I",
        "outputId": "a77159c0-0ed7-4240-9341-bf3f19514971"
      },
      "execution_count": null,
      "outputs": [
        {
          "output_type": "stream",
          "name": "stdout",
          "text": [
            "\"Defects,\"\t1\n",
            "\"Information\t1\n",
            "\"Plain\t2\n",
            "\"Project\t5\n",
            "\"Right\t1\n",
            "#11]\t1\n",
            "$5,000)\t1\n",
            "'AS-IS',\t1\n",
            "(\"the\t1\n",
            "($1\t1\n",
            "(801)\t1\n",
            "(Alice\t4\n",
            "(And,\t1\n",
            "(As\t1\n",
            "(Before\t1\n",
            "(Dinah\t1\n",
            "(For,\t1\n",
            "(He\t1\n",
            "(If\t1\n",
            "(In\t1\n",
            "(It\t1\n",
            "(Sounds\t1\n",
            "(The\t3\n",
            "\u001b[K"
          ]
        }
      ]
    },
    {
      "cell_type": "code",
      "source": [
        "!grep 'Cheshire' '/content/drive/My Drive/Colab Notebooks/Big-Data-Colab/out1/part-r-00000'"
      ],
      "metadata": {
        "colab": {
          "base_uri": "https://localhost:8080/"
        },
        "id": "FOoajzG6UMbe",
        "outputId": "8699304b-94ea-4526-83e3-700337c8a301"
      },
      "execution_count": null,
      "outputs": [
        {
          "output_type": "stream",
          "name": "stdout",
          "text": [
            "Cheshire\t6\n",
            "“Cheshire\t1\n"
          ]
        }
      ]
    }
  ]
}